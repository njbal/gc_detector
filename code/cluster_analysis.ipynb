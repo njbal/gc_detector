{
 "cells": [
  {
   "cell_type": "markdown",
   "id": "0ac3bad7",
   "metadata": {},
   "source": [
    "# Further analysis of clusters \n",
    "\n",
    "The code below was used to extract more information about the detected clusters such as:\n",
    "- Radial profiles\n",
    "- Distances\n",
    "- Velocity dispersions\n",
    "- Masses\n"
   ]
  },
  {
   "cell_type": "markdown",
   "id": "e663bfcd",
   "metadata": {},
   "source": [
    "## 1. Radial Profile fitting\n",
    "\n",
    "We use the [King (1962)](https://ui.adsabs.harvard.edu/abs/1962AJ.....67..471K/abstract) empirical model to map the radial surface density profile of our clusters. The model is given by\n",
    "$$\\Sigma(r) = k \\biggl( \\frac{1}{\\sqrt{1+(r/r_c)^2}} -  \\frac{1}{\\sqrt{1+(r_t/r_c)^2}} \\biggr)^2 + \\eta,$$\n",
    "\n",
    "where $k$ is related to the central surface density; $r_c$ and $r_t$ are the core and tidal radii, respectively; $\\eta$ is characterises the background density.\n",
    "The model has 4 fit parameters: $k, r_c, r_t, \\eta$"
   ]
  },
  {
   "cell_type": "code",
   "execution_count": 24,
   "id": "4aa1a21f",
   "metadata": {},
   "outputs": [
    {
     "name": "stderr",
     "output_type": "stream",
     "text": [
      "100%|███████████████████████████████████| 10000/10000 [00:04<00:00, 2159.78it/s]\n"
     ]
    },
    {
     "name": "stdout",
     "output_type": "stream",
     "text": [
      "Best-fit parameters: k=850.518, r_c=0.176, r_t=2.610, eta=16.465\n",
      "Concentration parameter: c = 1.171 +/- 0.460\n"
     ]
    }
   ],
   "source": [
    "from analysis import radial_mle, corner_plot\n",
    "import numpy as np\n",
    "\n",
    "file_path = '../results/clus_mem_lists/Eridanus.ecsv'\n",
    "r_lower, r_upper = 0, 2\n",
    "priors = np.array([[0,1000], [0,0.25], [0,4], [0,200]])\n",
    "p0 = [400,0.1,1,0.1]\n",
    "samples = radial_mle(file_path, r_lower, r_upper, priors, p0)\n",
    "\n",
    "corner_plot(file_path, samples, r_lower, r_upper)"
   ]
  },
  {
   "cell_type": "code",
   "execution_count": 9,
   "id": "89969623",
   "metadata": {},
   "outputs": [
    {
     "name": "stderr",
     "output_type": "stream",
     "text": [
      "100%|███████████████████████████████████| 10000/10000 [00:05<00:00, 1956.85it/s]\n"
     ]
    },
    {
     "name": "stdout",
     "output_type": "stream",
     "text": [
      "Best-fit parameters: k=207.387, r_c=5.827, r_t=16.070, eta=2.558\n",
      "Concentration parameter: c = 0.441 +/- 0.052\n"
     ]
    }
   ],
   "source": [
    "from analysis import radial_mle, corner_plot\n",
    "import numpy as np\n",
    "\n",
    "file_path = '../results/clus_mem_lists/NGC 5904.ecsv'\n",
    "r_lower, r_upper = 4,18\n",
    "priors = np.array([[0,1000], [0,20], [0,20], [0,15]])\n",
    "p0 = [700,1,5,2]\n",
    "samples = radial_mle(file_path, r_lower, r_upper, priors, p0)\n",
    "\n",
    "corner_plot(file_path, samples, r_lower, r_upper)\n",
    "\n",
    "# fix"
   ]
  },
  {
   "cell_type": "code",
   "execution_count": 28,
   "id": "dc5be91e",
   "metadata": {},
   "outputs": [
    {
     "name": "stderr",
     "output_type": "stream",
     "text": [
      "100%|███████████████████████████████████| 10000/10000 [00:04<00:00, 2112.18it/s]\n"
     ]
    },
    {
     "name": "stdout",
     "output_type": "stream",
     "text": [
      "Best-fit parameters: k=112.598, r_c=0.613, r_t=6.515, eta=15.408\n",
      "Concentration parameter: c = 1.026 +/- 0.494\n"
     ]
    }
   ],
   "source": [
    "from analysis import radial_mle, corner_plot\n",
    "import numpy as np\n",
    "\n",
    "file_path = '../results/clus_mem_lists/Pal 5.ecsv'\n",
    "r_lower, r_upper = 0, 2\n",
    "priors = np.array([[0,135], [0,5], [0,10], [0,20]])\n",
    "p0 = [100,0.6,5,10]\n",
    "samples = radial_mle(file_path, r_lower, r_upper, priors, p0)\n",
    "\n",
    "corner_plot(file_path, samples, r_lower, r_upper)\n"
   ]
  }
 ],
 "metadata": {
  "kernelspec": {
   "display_name": "Python 3 (ipykernel)",
   "language": "python",
   "name": "python3"
  },
  "language_info": {
   "codemirror_mode": {
    "name": "ipython",
    "version": 3
   },
   "file_extension": ".py",
   "mimetype": "text/x-python",
   "name": "python",
   "nbconvert_exporter": "python",
   "pygments_lexer": "ipython3",
   "version": "3.11.5"
  }
 },
 "nbformat": 4,
 "nbformat_minor": 5
}
