{
 "cells": [
  {
   "cell_type": "markdown",
   "id": "a5db595a",
   "metadata": {},
   "source": [
    "# Automated detection of globular clusters in _Gaia_ DR3 \n",
    "\n",
    "This notebook details the implementation of a simple, machine learning (ML)-based, globular cluster detection framework. It is based on several well-known ML algorithms including HDBSCAN, convolutional neural networks (CNNs), and Gaussian Mixture Models (GMM). Clusters and possible candidates are extracted directly from _Gaia_ DR3 astrometric data. Classifications are based on CMDs constructed via _Gaia_ photometry. \n",
    "\n",
    "This stripped-down codebase shows how some of findings of [Baloyi et al. (2025)](insert url/doi here) were derived. Motivations for the techniques used are detailed in the paper."
   ]
  },
  {
   "cell_type": "markdown",
   "id": "bfc28036",
   "metadata": {},
   "source": [
    "## 1. Blind cluster search via HDBSCAN\n",
    "We blindly search rectangular ($10^\\circ \\times 10^\\circ$) sky areas for spatial overdensities. We employ a Monte-Carlo-Markov chain (MCMC)-like approach whereby each such region is subdivided into side-lengths of $L \\in \\{1,2,5 \\}$. In each subdivided region, we implement HDBSCAN using $ \\rm min\\_cluster\\_size \\in \\mathbb{N}\\cap[6,15] $. \n",
    "\n",
    "This process produces files containing HDBSCAN cluster labels and persistences for each cluster."
   ]
  },
  {
   "cell_type": "code",
   "execution_count": 1,
   "id": "1f3d1343",
   "metadata": {
    "scrolled": true
   },
   "outputs": [
    {
     "name": "stdout",
     "output_type": "stream",
     "text": [
      "Run #1, L = 1:\n",
      "Filename: 0_10_40_50\n",
      "Total runtime of algorithm (seconds):86.52391576766968\n",
      "Clusterer done!\n",
      "\n",
      "Run #2, L = 2:\n",
      "Filename: 0_10_40_50\n",
      "Total runtime of algorithm (seconds):125.73946857452393\n",
      "Clusterer done!\n",
      "\n",
      "Run #3, L = 5:\n",
      "Filename: 0_10_40_50\n",
      "Total runtime of algorithm (seconds):158.15242958068848\n",
      "Clusterer done!\n",
      "\n",
      "Run #4, L = 1:\n",
      "Filename: 210_220_-50_-40\n",
      "Total runtime of algorithm (seconds):32.260998249053955\n",
      "Clusterer done!\n",
      "\n",
      "Run #5, L = 2:\n",
      "Filename: 210_220_-50_-40\n",
      "Total runtime of algorithm (seconds):54.61639475822449\n",
      "Clusterer done!\n",
      "\n",
      "Run #6, L = 5:\n",
      "Filename: 210_220_-50_-40\n",
      "Total runtime of algorithm (seconds):76.94468212127686\n",
      "Clusterer done!\n",
      "\n",
      "final runtime (s): 555.0256817340851\n"
     ]
    }
   ],
   "source": [
    "import os\n",
    "import time\n",
    "from clusterer import clusterer\n",
    "import numpy as np\n",
    "\n",
    "Ls = [1,2,5] # specifying partition sizes\n",
    "disc_positions = ['above', 'below']\n",
    "\n",
    "# Running clusterer on all files\n",
    "t0 = time.time()\n",
    "counter = 1\n",
    "for pos in disc_positions:\n",
    "    data_dir = f'../data/clustering/{pos}_disc/'\n",
    "    for L in Ls:\n",
    "        for x in np.sort(os.listdir(data_dir)):\n",
    "            print(f'Run #{counter}, L = {L}:')\n",
    "            clusterer(f'{data_dir}{x}', L)\n",
    "            counter+=1\n",
    "t1 = time.time()\n",
    "print('final runtime (s):', t1-t0)"
   ]
  },
  {
   "cell_type": "markdown",
   "id": "4fbc4b60",
   "metadata": {},
   "source": [
    "## 2. CNN classification\n",
    "We now construct CMDs of the detected overdensities and classify them via a CNN. For any repeating overdensities, we apply a proximity criterion to all over overdensities, leaving behind only those that are _distinct_, while unifying members over repetitions. \n",
    "\n",
    "The overdensities are further subjected to GMM clustering to determine membership probabilities. We perform a positional crossmatch of the overdensities with catalogues of GCs and other types of stellar groupings. This allows us to retrieve known GCs and other objects from our collection of overdensities. We can also examine unknown objects that have been detected as possible GC candidates.  \n",
    "\n",
    "Finally, we apply a $5\\sigma$ cluster significance test (CST) to them. The CST quantifies the contrast between the overdensity members and the corresponding nearby background. "
   ]
  },
  {
   "cell_type": "markdown",
   "id": "80d0eff2",
   "metadata": {},
   "source": [
    "### a. Generate CMDs\n",
    "We construct the CMDs of the HDBSCAN overdensities using the label files created from Step 1. Note that all CMDs generated here do not have axes."
   ]
  },
  {
   "cell_type": "code",
   "execution_count": 14,
   "id": "8f4bbacc",
   "metadata": {},
   "outputs": [
    {
     "name": "stdout",
     "output_type": "stream",
     "text": [
      "1\n",
      "Filename: 0_10_40_50\n",
      "2\n",
      "Filename: 210_220_-50_-40\n"
     ]
    }
   ],
   "source": [
    "from classifier import gen_cmd, delete_files_in_directory\n",
    "import os\n",
    "import time\n",
    "\n",
    "delete_files_in_directory('../data/cnn_classification/cmd/')\n",
    "\n",
    "Ls = [1,2,5]\n",
    "%matplotlib agg\n",
    "disc_positions = ['above', 'below']\n",
    "counter = 1 #file counter\n",
    "for pos in disc_positions:\n",
    "    data_dir = f'../data/clustering/{pos}_disc/'\n",
    "    for x in os.listdir(data_dir):\n",
    "        print(counter)\n",
    "        gen_cmd(f'{data_dir}{x}', Ls)\n",
    "        counter+=1\n"
   ]
  },
  {
   "cell_type": "markdown",
   "id": "1b5d20ba",
   "metadata": {},
   "source": [
    "### b. Classify according to CMDs:\n",
    "The specifics of the CNN architecture and training/validation process are detailed in the paper. \n",
    "\n",
    "In summary, the CNN has four $32\\times 32$ convolutional layers, two dense layers with 128 neurons each, and one output neuron assuming values between 0 (noise) and 1 (cluster). The CMD images are of sizes . It was trained on data from PARSEC-generated stellar populations, known GC data from [Vasiliev and Baumgardt (2021)](https://ui.adsabs.harvard.edu/abs/2021MNRAS.505.5978V/abstract) and random fields far from known GC locations. The CNN works by identifying isochrone patterns in images of CMDs - an approach that has proven highly effective in open cluster research ([Castro-Ginard et al. 2022](https://ui.adsabs.harvard.edu/abs/2022A%26A...661A.118C/abstract), [Hunt and Reffert 2024](https://ui.adsabs.harvard.edu/abs/2024A%26A...686A..42H/abstract)).\n",
    "\n",
    "The CNN model was compiled using the Keras API of TensorFlow."
   ]
  },
  {
   "cell_type": "code",
   "execution_count": 5,
   "id": "d38ee759",
   "metadata": {},
   "outputs": [
    {
     "name": "stdout",
     "output_type": "stream",
     "text": [
      "4/4 [==============================] - 0s 35ms/step\n",
      "Number of overdensities with class_threshold < class_prob < 0.99: 11\n",
      "Number of overdensities with class_prob > 0.99:                   52\n",
      "Number of overdensities with class_prob < class_threshold:        63\n",
      "Number of overdensities total:                                    126\n"
     ]
    }
   ],
   "source": [
    "from classifier import cnn\n",
    "\n",
    "path_to_cmds = '../data/cnn_classification/cmd/'\n",
    "cnn_model = '4_32_epochs-25'\n",
    "\n",
    "cnn(path_to_cmds, cnn_model, class_threshold=0.8)"
   ]
  },
  {
   "cell_type": "markdown",
   "id": "c28a0191",
   "metadata": {},
   "source": [
    "### c. Unify all repetitions: \n",
    "\n",
    "Since we implemented HDBSCAN over regions ranging in sky area and over multiple `min_cluster_size` values, we must now collect and unify all overdensities - classified above the 0.8 threshold - and their repetitions. The result: postively classified distinct overdensities."
   ]
  },
  {
   "cell_type": "code",
   "execution_count": 1,
   "id": "80d9e634",
   "metadata": {},
   "outputs": [
    {
     "name": "stdout",
     "output_type": "stream",
     "text": [
      "Number of distinct overdensities: 3\n"
     ]
    }
   ],
   "source": [
    "from classifier import unify_repetitions\n",
    "\n",
    "path_to_pos_ids = '../data/cnn_classification/npy_files/'\n",
    "unify_repetitions(path_to_pos_ids)"
   ]
  },
  {
   "cell_type": "markdown",
   "id": "cf659a03",
   "metadata": {},
   "source": [
    "### d. Derive membership probabilities via GMM\n",
    "For each distinct overdensity, we apply the GMM clustering algorithm using 2 components. This step is done to separate main cluster members from background sources or tidal structures (e.g. tails)."
   ]
  },
  {
   "cell_type": "markdown",
   "id": "a06b6065",
   "metadata": {},
   "source": [
    "__Note on the cluster IDs__\n",
    "\n",
    "We use the ID `0_10_40_50_1_05_10_1` as an example. The first segment `0_10_40_50` corresponds to the sky region that the overdensity was found at. `0_10` is the $l$-range and `40_50` is the $b$-range (all in degrees). The last 4 numbers corresponds to the subdivision size $L$ (1) of the search, the subregion where the overdensity is located (05: $0^\\circ<l<1^\\circ; 45^\\circ<b<46^\\circ$), `min_cluster_size` value used (10), and the HDBSCAN-assigned cluster label (1). These IDs are distinct, meaning that if it is known for a given overdensity, then its members and associated data can be easily extracted."
   ]
  },
  {
   "cell_type": "markdown",
   "id": "2d3412f9",
   "metadata": {},
   "source": [
    "### e. Positional crossmatch with known object catalogues \n",
    "We crossmatch our overdensities with GC, OC and Milky Way dwarf galaxy catalogues. If the distance between the central coordinates of our overdensities and those of a known object is less than $0.5^\\circ$, then we have a positive match. Otherwise, the overdensity is labelled a candidate to be analysed further."
   ]
  },
  {
   "cell_type": "code",
   "execution_count": 2,
   "id": "b43ece6b",
   "metadata": {},
   "outputs": [
    {
     "name": "stdout",
     "output_type": "stream",
     "text": [
      "Cluster IDs:\n",
      "0_10_40_50_1_05_13_2\n",
      "0_10_40_50_1_36_11_4\n",
      "210_220_-50_-40_2_44_10_4\n",
      "\n",
      "IDs and corresponding names:\n",
      "0_10_40_50_1_05_13_2:Pal 5\n",
      "0_10_40_50_1_36_11_4:NGC 5904\n",
      "210_220_-50_-40_2_44_10_4:Eridanus\n",
      "\n",
      "Object tally:\n",
      "N_GC:    3\n",
      "N_OC:    0\n",
      "N_dSph:  0\n",
      "N_cand:  0\n"
     ]
    },
    {
     "name": "stderr",
     "output_type": "stream",
     "text": [
      "WARNING: VerifyWarning: Invalid keyword for column 66: ASCII table null option (TNULLn) is longer than the column's character width and will be truncated (got '-32768'). [astropy.io.fits.column]\n"
     ]
    }
   ],
   "source": [
    "# step 2d:\n",
    "from classifier import delete_files_in_directory, gmm_membership\n",
    "import numpy as np\n",
    "\n",
    "clus_mem_lists_path = '../data/cnn_classification/prelim_clus_mem_lists/'\n",
    "delete_files_in_directory(clus_mem_lists_path)\n",
    "\n",
    "source_ids_dict_path = '../data/cnn_classification/npy_files/final_source_ids_dict.npy'\n",
    "source_ids_dict = np.load(source_ids_dict_path, allow_pickle=True)[()]\n",
    "\n",
    "print('Cluster IDs:')\n",
    "for x in source_ids_dict.keys():\n",
    "    gmm_membership(x, source_ids_dict, clus_mem_lists_path)\n",
    "    \n",
    "# step 2e:\n",
    "from classifier import xmatch\n",
    "clus_mem_lists_path = '../data/cnn_classification/prelim_clus_mem_lists/'\n",
    "\n",
    "print('\\nIDs and corresponding names:')\n",
    "xmatch(clus_mem_lists_path)"
   ]
  },
  {
   "cell_type": "markdown",
   "id": "e43abcc3",
   "metadata": {},
   "source": [
    "### f. Cluster significance test:\n",
    "The CST works by comparing the nearest neighbour distance (NND) distributions of the cluster members and the nearby background. We apply a one-sided Mann-Whitney U-test to respective NNDs, with a null hypothesis stating that the NND distributions of the both populations are indistinguishable. We quantify sufficient distinction from the background via a U-test derived $p$ value that corresponds to an at least $5\\sigma$ confidence level."
   ]
  },
  {
   "cell_type": "code",
   "execution_count": 3,
   "id": "c773533c",
   "metadata": {},
   "outputs": [
    {
     "name": "stdout",
     "output_type": "stream",
     "text": [
      "Pal 5: statiscally significant - p = 1.2132832583715902e-146\n",
      "NGC 5904: statiscally significant - p = 0.0\n",
      "Eridanus: statiscally significant - p = 3.7636212765598266e-11\n"
     ]
    }
   ],
   "source": [
    "from classifier import cst\n",
    "clus_mem_lists_path = '../data/cnn_classification/prelim_clus_mem_lists/'\n",
    "\n",
    "cst(clus_mem_lists_path)"
   ]
  },
  {
   "cell_type": "markdown",
   "id": "fbecab83",
   "metadata": {},
   "source": [
    "## 3. Data tables and final cluster membership lists:\n",
    "We now compile a table summarising the mean astrometric values of each cluster. We also make a \"probabilities\" table that reports each cluster's classification probability, HDBSCAN persistence, and the CST p-value. We assemble the final cluster membership lists and construct four-panel visualisations. "
   ]
  },
  {
   "cell_type": "code",
   "execution_count": 1,
   "id": "929c2363",
   "metadata": {},
   "outputs": [],
   "source": [
    "import os\n",
    "from classifier import delete_files_in_directory\n",
    "from tables_and_vis import mk_probs_table, mk_ast_table, rename_clus_mem_lists, ensure_dir, four_panel\n",
    "\n",
    "path_to_prelim_tables = '../data/cnn_classification/prelim_tables/'\n",
    "prelim_mem_lists_path = '../data/cnn_classification/prelim_clus_mem_lists/'\n",
    "results_dir = '../results/'\n",
    "\n",
    "# Probabilities table:\n",
    "probs_table = mk_probs_table(path_to_prelim_tables, prelim_mem_lists_path, results_dir) \n",
    "\n",
    "# Astrometry table:\n",
    "ast_table = mk_ast_table(prelim_mem_lists_path, results_dir)\n",
    "\n",
    "# rename cluster files:\n",
    "rename_clus_mem_lists(prelim_mem_lists_path, results_dir)\n",
    "\n",
    "# Visualisations:\n",
    "four_panel_dir = f'{results_dir}visualisations/four_panel/'\n",
    "ensure_dir(four_panel_dir)\n",
    "delete_files_in_directory(four_panel_dir)\n",
    "\n",
    "clus_mem_lists_path = f'{results_dir}clus_mem_lists/'\n",
    "\n",
    "for f in os.listdir(clus_mem_lists_path):\n",
    "    file = f'{clus_mem_lists_path}{f}'\n",
    "    four_panel(file, save=True, display=False)"
   ]
  },
  {
   "cell_type": "markdown",
   "id": "b9ffe7a2",
   "metadata": {},
   "source": [
    "Below are the astrometry and probabilities tables:"
   ]
  },
  {
   "cell_type": "code",
   "execution_count": 2,
   "id": "638acc16",
   "metadata": {},
   "outputs": [
    {
     "data": {
      "text/html": [
       "<div><i>Table length=3</i>\n",
       "<table id=\"table140571519010512\" class=\"table-striped table-bordered table-condensed\">\n",
       "<thead><tr><th>Cluster Name</th><th>$N_{\\rm mem}$</th><th>$R_{50}$</th><th>$\\alpha$</th><th>$\\delta$</th><th>$l$</th><th>$b$</th><th>$\\varpi$</th><th>$u(\\varpi)$</th><th>$\\mu_{\\alpha^*}$</th><th>$u(\\mu_{\\alpha^*})$</th><th>$\\mu_{\\delta}$</th><th>$u(\\mu_{\\delta})$</th></tr></thead>\n",
       "<thead><tr><th></th><th></th><th>deg</th><th>deg</th><th>deg</th><th>deg</th><th>deg</th><th>mas</th><th>mas</th><th>mas / yr</th><th>mas / yr</th><th>mas / yr</th><th>mas / yr</th></tr></thead>\n",
       "<thead><tr><th>str32</th><th>int64</th><th>float64</th><th>float64</th><th>float64</th><th>float64</th><th>float64</th><th>float64</th><th>float64</th><th>float64</th><th>float64</th><th>float64</th><th>float64</th></tr></thead>\n",
       "<tr><td>Eridanus</td><td>35</td><td>0.02</td><td>66.188503</td><td>-21.187914</td><td>218.108607</td><td>-41.329798</td><td>0.178</td><td>0.047</td><td>0.493</td><td>0.05</td><td>-0.338</td><td>0.057</td></tr>\n",
       "<tr><td>NGC 5904</td><td>8402</td><td>0.129</td><td>229.636524</td><td>2.078439</td><td>3.854038</td><td>46.796122</td><td>0.135</td><td>0.012</td><td>4.059</td><td>0.022</td><td>-9.857</td><td>0.022</td></tr>\n",
       "<tr><td>Pal 5</td><td>277</td><td>0.055</td><td>229.016241</td><td>-0.121101</td><td>0.836049</td><td>45.858</td><td>0.042</td><td>0.02</td><td>-2.695</td><td>0.032</td><td>-2.69</td><td>0.03</td></tr>\n",
       "</table></div>"
      ],
      "text/plain": [
       "<Table length=3>\n",
       "Cluster Name $N_{\\rm mem}$ $R_{50}$ ... $\\mu_{\\delta}$ $u(\\mu_{\\delta})$\n",
       "                             deg    ...    mas / yr         mas / yr    \n",
       "   str32         int64     float64  ...    float64          float64     \n",
       "------------ ------------- -------- ... -------------- -----------------\n",
       "    Eridanus            35     0.02 ...         -0.338             0.057\n",
       "    NGC 5904          8402    0.129 ...         -9.857             0.022\n",
       "       Pal 5           277    0.055 ...          -2.69              0.03"
      ]
     },
     "execution_count": 2,
     "metadata": {},
     "output_type": "execute_result"
    }
   ],
   "source": [
    "ast_table"
   ]
  },
  {
   "cell_type": "markdown",
   "id": "be3e9f62",
   "metadata": {},
   "source": [
    "All astrometric values, apart from of Eridanus' parallax, are in agreement with those reported by [Vasiliev and Baumgardt (2021)](https://ui.adsabs.harvard.edu/abs/2021MNRAS.505.5978V/abstract). These 3 GCs are also the only known GCs in the regions described by \n",
    "$$r_1 = \\{ (l,b)\\in \\mathbb{R}: l \\in  [0^\\circ, 10^\\circ], b \\in [40^\\circ, 50^\\circ] \\};$$ \n",
    "$$r_2 = \\{ (l,b)\\in \\mathbb{R}: l \\in  [210^\\circ, 220^\\circ], b \\in [-50^\\circ, -40^\\circ] \\}$$ \n",
    "\n",
    "Our GC recovery rate for these regions is thus 100%. There are no credible candidates though."
   ]
  },
  {
   "cell_type": "code",
   "execution_count": 3,
   "id": "1e6bb6a6",
   "metadata": {},
   "outputs": [
    {
     "data": {
      "text/html": [
       "<div><i>Table length=3</i>\n",
       "<table id=\"table140571701349136\" class=\"table-striped table-bordered table-condensed\">\n",
       "<thead><tr><th>Cluster Name</th><th>$p_{\\rm class}$</th><th>${min\\_cluster\\_size}$</th><th>$p_{\\rm hdb}$</th><th>$p_{\\rm CST}$</th></tr></thead>\n",
       "<thead><tr><th>str32</th><th>float64</th><th>int8</th><th>float64</th><th>float64</th></tr></thead>\n",
       "<tr><td>Eridanus</td><td>0.9999803900718689</td><td>10</td><td>0.3056759198948788</td><td>3.7636212765598266e-11</td></tr>\n",
       "<tr><td>NGC 5904</td><td>0.9999287724494934</td><td>11</td><td>0.2656084003119112</td><td>0.0</td></tr>\n",
       "<tr><td>Pal 5</td><td>0.9983526468276978</td><td>13</td><td>0.22866680609194623</td><td>1.2132832583715902e-146</td></tr>\n",
       "</table></div>"
      ],
      "text/plain": [
       "<Table length=3>\n",
       "Cluster Name  $p_{\\rm class}$   ...    $p_{\\rm hdb}$         $p_{\\rm CST}$     \n",
       "   str32          float64       ...       float64               float64        \n",
       "------------ ------------------ ... ------------------- -----------------------\n",
       "    Eridanus 0.9999803900718689 ...  0.3056759198948788  3.7636212765598266e-11\n",
       "    NGC 5904 0.9999287724494934 ...  0.2656084003119112                     0.0\n",
       "       Pal 5 0.9983526468276978 ... 0.22866680609194623 1.2132832583715902e-146"
      ]
     },
     "execution_count": 3,
     "metadata": {},
     "output_type": "execute_result"
    }
   ],
   "source": [
    "probs_table"
   ]
  }
 ],
 "metadata": {
  "kernelspec": {
   "display_name": "Python 3 (ipykernel)",
   "language": "python",
   "name": "python3"
  },
  "language_info": {
   "codemirror_mode": {
    "name": "ipython",
    "version": 3
   },
   "file_extension": ".py",
   "mimetype": "text/x-python",
   "name": "python",
   "nbconvert_exporter": "python",
   "pygments_lexer": "ipython3",
   "version": "3.11.5"
  }
 },
 "nbformat": 4,
 "nbformat_minor": 5
}
