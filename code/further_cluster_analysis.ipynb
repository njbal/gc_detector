{
 "cells": [
  {
   "cell_type": "markdown",
   "id": "0ac3bad7",
   "metadata": {},
   "source": [
    "# Automated detection of globular clusters in _Gaia_ DR3\n",
    "\n",
    "## II: Further cluster analysis\n",
    "\n",
    "The code below was used to extract more information about the detected clusters such as:\n",
    "- Radial profiles\n",
    "- Distances\n",
    "- Proper motion dispersions"
   ]
  },
  {
   "cell_type": "markdown",
   "id": "91127bbc",
   "metadata": {},
   "source": [
    "## 1. Radial Profile fitting\n",
    "\n",
    "We use the [King (1962)](https://ui.adsabs.harvard.edu/abs/1962AJ.....67..471K/abstract) empirical model to map the radial surface density profile of our clusters. The model has 4 fit parameters: \n",
    "- $k$ - related to the central surface density; \n",
    "- $r_c$: core radius\n",
    "- $r_t$: tidal radius\n",
    "- $\\eta$ - related to the background density.\n",
    "\n",
    "We estimated these parameters using the [`emcee`](https://emcee.readthedocs.io/) package. We used the [`corner`](https://corner.readthedocs.io/) package to visualise the corresponding Markov-Chain Monte Carlo samples. The resulting plots/fits are available in the `results/visualisations/radial_profile_fits` directory."
   ]
  },
  {
   "cell_type": "code",
   "execution_count": 24,
   "id": "4aa1a21f",
   "metadata": {},
   "outputs": [
    {
     "name": "stderr",
     "output_type": "stream",
     "text": [
      "100%|███████████████████████████████████| 10000/10000 [00:04<00:00, 2159.78it/s]\n"
     ]
    },
    {
     "name": "stdout",
     "output_type": "stream",
     "text": [
      "Best-fit parameters: k=850.518, r_c=0.176, r_t=2.610, eta=16.465\n",
      "Concentration parameter: c = 1.171 +/- 0.460\n"
     ]
    }
   ],
   "source": [
    "from analysis import radial_mle, corner_plot\n",
    "import numpy as np\n",
    "\n",
    "file_path = '../results/clus_mem_lists/Eridanus.ecsv'\n",
    "r_lower, r_upper = 0, 2\n",
    "priors = np.array([[0,1000], [0,0.25], [0,4], [0,200]])\n",
    "p0 = [400,0.1,1,0.1]\n",
    "samples = radial_mle(file_path, r_lower, r_upper, priors, p0)\n",
    "\n",
    "corner_plot(file_path, samples, r_lower, r_upper)"
   ]
  },
  {
   "cell_type": "code",
   "execution_count": 9,
   "id": "89969623",
   "metadata": {},
   "outputs": [
    {
     "name": "stderr",
     "output_type": "stream",
     "text": [
      "100%|███████████████████████████████████| 10000/10000 [00:05<00:00, 1956.85it/s]\n"
     ]
    },
    {
     "name": "stdout",
     "output_type": "stream",
     "text": [
      "Best-fit parameters: k=207.387, r_c=5.827, r_t=16.070, eta=2.558\n",
      "Concentration parameter: c = 0.441 +/- 0.052\n"
     ]
    }
   ],
   "source": [
    "from analysis import radial_mle, corner_plot\n",
    "import numpy as np\n",
    "\n",
    "file_path = '../results/clus_mem_lists/NGC 5904.ecsv'\n",
    "r_lower, r_upper = 4,18\n",
    "priors = np.array([[0,1000], [0,20], [0,20], [0,15]])\n",
    "p0 = [700,1,5,2]\n",
    "samples = radial_mle(file_path, r_lower, r_upper, priors, p0)\n",
    "\n",
    "corner_plot(file_path, samples, r_lower, r_upper)"
   ]
  },
  {
   "cell_type": "code",
   "execution_count": 28,
   "id": "95242a62",
   "metadata": {},
   "outputs": [
    {
     "name": "stderr",
     "output_type": "stream",
     "text": [
      "100%|███████████████████████████████████| 10000/10000 [00:04<00:00, 2112.18it/s]\n"
     ]
    },
    {
     "name": "stdout",
     "output_type": "stream",
     "text": [
      "Best-fit parameters: k=112.598, r_c=0.613, r_t=6.515, eta=15.408\n",
      "Concentration parameter: c = 1.026 +/- 0.494\n"
     ]
    }
   ],
   "source": [
    "from analysis import radial_mle, corner_plot\n",
    "import numpy as np\n",
    "\n",
    "file_path = '../results/clus_mem_lists/Pal 5.ecsv'\n",
    "r_lower, r_upper = 0, 2\n",
    "priors = np.array([[0,135], [0,5], [0,10], [0,20]])\n",
    "p0 = [100,0.6,5,10]\n",
    "samples = radial_mle(file_path, r_lower, r_upper, priors, p0)\n",
    "\n",
    "corner_plot(file_path, samples, r_lower, r_upper)\n"
   ]
  },
  {
   "cell_type": "markdown",
   "id": "a765fbd9",
   "metadata": {},
   "source": [
    "## 2. Distances:\n",
    "\n",
    "We use the `emcee` package again to estimate cluster distances based on two approaches:\n",
    "\n",
    "- Parallax\n",
    "- CMD fitting\n",
    "\n",
    "Details of the fitting procedures can be found in [Baloyi et al. (2025)](link to be inserted)."
   ]
  },
  {
   "cell_type": "code",
   "execution_count": 1,
   "id": "f70989c1",
   "metadata": {},
   "outputs": [
    {
     "name": "stderr",
     "output_type": "stream",
     "text": [
      "100%|███████████████████████████████████| 10000/10000 [00:03<00:00, 2518.84it/s]\n"
     ]
    },
    {
     "name": "stdout",
     "output_type": "stream",
     "text": [
      "Pal 5:\n",
      "D = 25.235 (-4.954 / + 7.830) kpc\n"
     ]
    },
    {
     "name": "stderr",
     "output_type": "stream",
     "text": [
      "100%|███████████████████████████████████| 10000/10000 [00:06<00:00, 1666.21it/s]\n"
     ]
    },
    {
     "name": "stdout",
     "output_type": "stream",
     "text": [
      "NGC 5904:\n",
      "D = 7.421 (-0.087 / + 0.091) kpc\n"
     ]
    },
    {
     "name": "stderr",
     "output_type": "stream",
     "text": [
      "100%|███████████████████████████████████| 10000/10000 [00:03<00:00, 2545.20it/s]\n"
     ]
    },
    {
     "name": "stdout",
     "output_type": "stream",
     "text": [
      "Eridanus:\n",
      "D = 6.856 (-1.477 / + 2.849) kpc\n"
     ]
    }
   ],
   "source": [
    "import os\n",
    "from analysis import plx_dist\n",
    "\n",
    "clus_mem_list_dir = '../results/clus_mem_lists/'\n",
    "for file in os.listdir(clus_mem_list_dir):\n",
    "    clus_name, dist, err_lo, err_hi = plx_dist(f'{clus_mem_list_dir}{file}')\n",
    "    print(f'{clus_name}:\\nD = {dist:.3f} (-{err_lo:.3f} / + {err_hi:.3f}) kpc')"
   ]
  },
  {
   "cell_type": "markdown",
   "id": "b527aadc",
   "metadata": {},
   "source": [
    "In comparison to literature, e.g. [Baumgardt and Vasiliev (2021)](https://ui.adsabs.harvard.edu/abs/2021MNRAS.505.5957B/abstract), only Eridanus' distance above is WAY off, with $D_{\\rm Eri, lit} = {84.684}_{-2.838}^{+2.936}$ kpc. For sources at large distances, parallax ceases to be a reliable measure of distance."
   ]
  }
 ],
 "metadata": {
  "kernelspec": {
   "display_name": "Python 3 (ipykernel)",
   "language": "python",
   "name": "python3"
  },
  "language_info": {
   "codemirror_mode": {
    "name": "ipython",
    "version": 3
   },
   "file_extension": ".py",
   "mimetype": "text/x-python",
   "name": "python",
   "nbconvert_exporter": "python",
   "pygments_lexer": "ipython3",
   "version": "3.11.5"
  }
 },
 "nbformat": 4,
 "nbformat_minor": 5
}
