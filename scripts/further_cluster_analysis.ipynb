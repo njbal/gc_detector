{
 "cells": [
  {
   "cell_type": "markdown",
   "id": "0ac3bad7",
   "metadata": {},
   "source": [
    "# Automated detection of globular clusters in _Gaia_ DR3\n",
    "\n",
    "## II: Further cluster analysis\n",
    "\n",
    "The code below was used to extract more information about the detected clusters such as:\n",
    "- Radial profiles\n",
    "- Distances\n",
    "- Proper motion dispersions"
   ]
  },
  {
   "cell_type": "markdown",
   "id": "91127bbc",
   "metadata": {},
   "source": [
    "## 1. Radial Profile fitting\n",
    "\n",
    "We use the [King (1962)](https://ui.adsabs.harvard.edu/abs/1962AJ.....67..471K/abstract) empirical model to map the radial surface density profile of our clusters. The model has 4 fit parameters: \n",
    "- $k$ - related to the central surface density; \n",
    "- $r_c$: core radius\n",
    "- $r_t$: tidal radius\n",
    "- $\\eta$ - related to the background density.\n",
    "\n",
    "We estimated these parameters using the [`emcee`](https://emcee.readthedocs.io/) package. We used the [`corner`](https://corner.readthedocs.io/) package to visualise the corresponding Markov-Chain Monte Carlo samples. The resulting plots/fits are available in the `results/visualisations/radial_profile_fits` directory."
   ]
  },
  {
   "cell_type": "code",
   "execution_count": 1,
   "id": "4aa1a21f",
   "metadata": {},
   "outputs": [
    {
     "name": "stderr",
     "output_type": "stream",
     "text": [
      "100%|███████████████████████████████████| 10000/10000 [00:04<00:00, 2183.76it/s]\n"
     ]
    },
    {
     "name": "stdout",
     "output_type": "stream",
     "text": [
      "Best-fit parameters: k=58.825, r_c=0.351, r_t=2.722, eta=0.023\n",
      "Concentration parameter: c = 0.889 +/- 0.680\n"
     ]
    }
   ],
   "source": [
    "from analysis import radial_mle, corner_plot\n",
    "import numpy as np\n",
    "\n",
    "file_path = '../results/clus_mem_lists/Eridanus.ecsv'\n",
    "r_lower, r_upper = 0, 4\n",
    "priors = np.array([[0,75], [0.2,0.5], [0,5], [-10,10]])\n",
    "p0 = [50,0.25,1,0.1]\n",
    "samples = radial_mle(file_path, r_lower, r_upper, priors, p0)\n",
    "\n",
    "corner_plot(file_path, samples, r_lower, r_upper)"
   ]
  },
  {
   "cell_type": "code",
   "execution_count": 2,
   "id": "89969623",
   "metadata": {},
   "outputs": [
    {
     "name": "stderr",
     "output_type": "stream",
     "text": [
      "100%|███████████████████████████████████| 10000/10000 [00:04<00:00, 2069.54it/s]\n"
     ]
    },
    {
     "name": "stdout",
     "output_type": "stream",
     "text": [
      "Best-fit parameters: k=242.584, r_c=3.765, r_t=19.798, eta=0.335\n",
      "Concentration parameter: c = 0.721 +/- 0.297\n"
     ]
    }
   ],
   "source": [
    "from analysis import radial_mle, corner_plot\n",
    "import numpy as np\n",
    "\n",
    "file_path = '../results/clus_mem_lists/NGC 5904.ecsv'\n",
    "r_lower, r_upper = 4,20\n",
    "priors = np.array([[0,350], [0,20], [0,25], [0,15]])\n",
    "p0 = [200,1,5,2]\n",
    "samples = radial_mle(file_path, r_lower, r_upper, priors, p0)\n",
    "    \n",
    "corner_plot(file_path, samples, r_lower, r_upper)"
   ]
  },
  {
   "cell_type": "code",
   "execution_count": 3,
   "id": "95242a62",
   "metadata": {},
   "outputs": [
    {
     "name": "stderr",
     "output_type": "stream",
     "text": [
      "100%|███████████████████████████████████| 10000/10000 [00:04<00:00, 2065.01it/s]\n"
     ]
    },
    {
     "name": "stdout",
     "output_type": "stream",
     "text": [
      "Best-fit parameters: k=43.766, r_c=4.755, r_t=6.763, eta=0.179\n",
      "Concentration parameter: c = 0.153 +/- 0.221\n"
     ]
    }
   ],
   "source": [
    "from analysis import radial_mle, corner_plot\n",
    "import numpy as np\n",
    "\n",
    "file_path = '../results/clus_mem_lists/Pal 5.ecsv'\n",
    "r_lower, r_upper = 0, 8\n",
    "priors = np.array([[0,100], [3,6], [0,10], [-10,10]])\n",
    "p0 = [30,4,4,0]\n",
    "samples = radial_mle(file_path, r_lower, r_upper, priors, p0)\n",
    "\n",
    "corner_plot(file_path, samples, r_lower, r_upper)\n"
   ]
  },
  {
   "cell_type": "markdown",
   "id": "a765fbd9",
   "metadata": {},
   "source": [
    "## 2. Distances:\n",
    "\n",
    "We use the `emcee` package again to estimate cluster distances based on two approaches:\n",
    "\n",
    "- Parallax\n",
    "- CMD fitting (to be added later)\n",
    "\n",
    "Details of the fitting procedures can be found in [Baloyi et al. (2025)](link to be inserted)."
   ]
  },
  {
   "cell_type": "code",
   "execution_count": 4,
   "id": "f70989c1",
   "metadata": {},
   "outputs": [
    {
     "name": "stderr",
     "output_type": "stream",
     "text": [
      "100%|███████████████████████████████████| 10000/10000 [00:04<00:00, 2301.41it/s]\n"
     ]
    },
    {
     "name": "stdout",
     "output_type": "stream",
     "text": [
      "Pal 5:\n",
      "D = 25.173 (-5.000 / + 7.856) kpc\n"
     ]
    },
    {
     "name": "stderr",
     "output_type": "stream",
     "text": [
      "100%|███████████████████████████████████| 10000/10000 [00:06<00:00, 1546.10it/s]\n"
     ]
    },
    {
     "name": "stdout",
     "output_type": "stream",
     "text": [
      "NGC 5904:\n",
      "D = 7.426 (-0.087 / + 0.086) kpc\n"
     ]
    },
    {
     "name": "stderr",
     "output_type": "stream",
     "text": [
      "100%|███████████████████████████████████| 10000/10000 [00:04<00:00, 2426.85it/s]\n"
     ]
    },
    {
     "name": "stdout",
     "output_type": "stream",
     "text": [
      "Eridanus:\n",
      "D = 6.774 (-1.430 / + 2.683) kpc\n"
     ]
    }
   ],
   "source": [
    "import os\n",
    "from analysis import plx_dist\n",
    "\n",
    "clus_mem_list_dir = '../results/clus_mem_lists/'\n",
    "for file in os.listdir(clus_mem_list_dir):\n",
    "    clus_name, dist, err_lo, err_hi = plx_dist(f'{clus_mem_list_dir}{file}')\n",
    "    print(f'{clus_name}:\\nD = {dist:.3f} (-{err_lo:.3f} / + {err_hi:.3f}) kpc')"
   ]
  },
  {
   "cell_type": "markdown",
   "id": "b527aadc",
   "metadata": {},
   "source": [
    "In comparison to literature, e.g. [Baumgardt and Vasiliev (2021)](https://ui.adsabs.harvard.edu/abs/2021MNRAS.505.5957B/abstract), only Eridanus' distance above is WAY off, with $D_{\\rm Eri, lit} = {84.684}_{-2.838}^{+2.936}$ kpc. For sources at large distances, parallax ceases to be a reliable measure of distance."
   ]
  },
  {
   "cell_type": "markdown",
   "id": "54071421",
   "metadata": {},
   "source": [
    "## 3. Proper motion dispersion:\n",
    "\n",
    "We re-use `emcee` to calculate observed total proper motion (PM) dispersion of a given cluster. If the distance to the cluster is known, it is a straightforward process to calculate the tangential velocity dispersion from the PM dispersion - i.e. by using $v \\ [\\mathrm{km/s}] = 4.74 \\mu \\ [\\mathrm{mas/yr}] \\ D \\ [\\mathrm{kpc}]$."
   ]
  },
  {
   "cell_type": "code",
   "execution_count": 5,
   "id": "6376c239",
   "metadata": {},
   "outputs": [
    {
     "name": "stderr",
     "output_type": "stream",
     "text": [
      "100%|█████████████████████████████████████| 5000/5000 [00:01<00:00, 2962.31it/s]\n"
     ]
    },
    {
     "name": "stdout",
     "output_type": "stream",
     "text": [
      "Pal 5:\n",
      "PM Dispersion = 0.012 (-0.008 / + 0.013) mas/yr\n"
     ]
    },
    {
     "name": "stderr",
     "output_type": "stream",
     "text": [
      "100%|█████████████████████████████████████| 5000/5000 [00:03<00:00, 1560.95it/s]\n"
     ]
    },
    {
     "name": "stdout",
     "output_type": "stream",
     "text": [
      "NGC 5904:\n",
      "PM Dispersion = 0.072 (-0.003 / + 0.003) mas/yr\n"
     ]
    },
    {
     "name": "stderr",
     "output_type": "stream",
     "text": [
      "100%|█████████████████████████████████████| 5000/5000 [00:01<00:00, 3093.07it/s]\n"
     ]
    },
    {
     "name": "stdout",
     "output_type": "stream",
     "text": [
      "Eridanus:\n",
      "PM Dispersion = 0.294 (-0.054 / + 0.062) mas/yr\n"
     ]
    }
   ],
   "source": [
    "import os\n",
    "from analysis import pm_mle\n",
    "\n",
    "clus_mem_list_dir = '../results/clus_mem_lists/'\n",
    "for file in os.listdir(clus_mem_list_dir):\n",
    "    clus_name, disp, disp_err_lo, disp_err_hi = pm_mle(f'{clus_mem_list_dir}{file}')\n",
    "    print(f'{clus_name}:\\nPM Dispersion = {disp:.3f} (-{disp_err_lo:.3f} / + {disp_err_hi:.3f}) mas/yr')\n"
   ]
  }
 ],
 "metadata": {
  "kernelspec": {
   "display_name": "Python 3 (ipykernel)",
   "language": "python",
   "name": "python3"
  },
  "language_info": {
   "codemirror_mode": {
    "name": "ipython",
    "version": 3
   },
   "file_extension": ".py",
   "mimetype": "text/x-python",
   "name": "python",
   "nbconvert_exporter": "python",
   "pygments_lexer": "ipython3",
   "version": "3.11.5"
  }
 },
 "nbformat": 4,
 "nbformat_minor": 5
}
